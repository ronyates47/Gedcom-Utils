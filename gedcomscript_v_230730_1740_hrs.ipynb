{
  "nbformat": 4,
  "nbformat_minor": 0,
  "metadata": {
    "colab": {
      "provenance": [],
      "authorship_tag": "ABX9TyOlpKWzBy+PHzbV4x+Khie3",
      "include_colab_link": true
    },
    "kernelspec": {
      "name": "python3",
      "display_name": "Python 3"
    },
    "language_info": {
      "name": "python"
    }
  },
  "cells": [
    {
      "cell_type": "markdown",
      "metadata": {
        "id": "view-in-github",
        "colab_type": "text"
      },
      "source": [
        "<a href=\"https://colab.research.google.com/github/ronyates47/Gedcom-Utils/blob/main/gedcomscript_v_230730_1740_hrs.ipynb\" target=\"_parent\"><img src=\"https://colab.research.google.com/assets/colab-badge.svg\" alt=\"Open In Colab\"/></a>"
      ]
    },
    {
      "cell_type": "code",
      "execution_count": 1,
      "metadata": {
        "colab": {
          "base_uri": "https://localhost:8080/"
        },
        "id": "Aft0ALCVGXSv",
        "outputId": "d40443b2-16ff-49a4-89f6-0fbce8f237fa"
      },
      "outputs": [
        {
          "output_type": "stream",
          "name": "stdout",
          "text": [
            "Requirement already satisfied: pandas in /usr/local/lib/python3.10/dist-packages (1.5.3)\n",
            "Requirement already satisfied: python-dateutil>=2.8.1 in /usr/local/lib/python3.10/dist-packages (from pandas) (2.8.2)\n",
            "Requirement already satisfied: pytz>=2020.1 in /usr/local/lib/python3.10/dist-packages (from pandas) (2022.7.1)\n",
            "Requirement already satisfied: numpy>=1.21.0 in /usr/local/lib/python3.10/dist-packages (from pandas) (1.22.4)\n",
            "Requirement already satisfied: six>=1.5 in /usr/local/lib/python3.10/dist-packages (from python-dateutil>=2.8.1->pandas) (1.16.0)\n",
            "Collecting python-gedcom\n",
            "  Downloading python_gedcom-1.0.0-py2.py3-none-any.whl (35 kB)\n",
            "Installing collected packages: python-gedcom\n",
            "Successfully installed python-gedcom-1.0.0\n"
          ]
        }
      ],
      "source": [
        "!pip install pandas\n",
        "!pip install python-gedcom"
      ]
    },
    {
      "cell_type": "code",
      "source": [
        "# Section 1\n",
        "class Gedcom:\n",
        "    def __init__(self, file_name):\n",
        "        self.file_name = file_name\n",
        "        self.gedcom_datasets = []\n",
        "        self.filter_pool = []\n",
        "\n",
        "    def parse_gedcom(self):\n",
        "        with open(self.file_name, 'r', encoding='utf-8-sig') as f:\n",
        "            gedcom_lines = f.readlines()\n",
        "\n",
        "        current_dataset = None\n",
        "        npfx_count = 0\n",
        "        total_count = 0\n",
        "        for line in gedcom_lines:\n",
        "            parts = line.strip().split(' ', 2)\n",
        "            level = int(parts[0])\n",
        "            tag = parts[1]\n",
        "            value = parts[2] if len(parts) > 2 else None\n",
        "\n",
        "            if level == 0 and tag.startswith('@') and tag.endswith('@') and value == 'INDI':\n",
        "                total_count += 1\n",
        "                current_dataset = GedcomDataset(tag)\n",
        "                self.gedcom_datasets.append(current_dataset)\n",
        "            elif current_dataset is not None:\n",
        "                if level == 1 and tag in ['NAME', 'FAMC']:\n",
        "                    current_key = tag\n",
        "                    current_dataset.add_extractable_detail(current_key, value)\n",
        "                elif level == 2 and tag == 'NPFX':\n",
        "                    npfx_count += 1\n",
        "                    current_dataset.add_extractable_detail(tag, value)\n",
        "\n",
        "        print(f'Found {total_count} total records')\n",
        "        print(f'Found {npfx_count} NPFX tags')\n",
        "\n",
        "        # Filter datasets based on presence of NPFX tag\n",
        "        for dataset in self.gedcom_datasets:\n",
        "            if dataset.get_extractable_NPFX():\n",
        "                self.filter_pool.append(dataset)\n",
        "\n",
        "    def generate_ancestor_data(self):\n",
        "        # Create a dictionary to store the ancestor data\n",
        "        ancestors = {}\n",
        "\n",
        "        # Iterate over the records in the filter_pool list\n",
        "        for dataset in self.filter_pool:\n",
        "            # Get the name and ID# of the individual\n",
        "            name = dataset.get_anchor_gen1()\n",
        "            id_num = dataset.get_gen_person()\n",
        "\n",
        "            # Generate the ancestor data for this individual\n",
        "            ancestor_list = generate_ancestor_list(name, id_num, self.gedcom_datasets)\n",
        "\n",
        "            # Store the ancestor data in the dictionary\n",
        "            ancestors[name] = {\n",
        "                \"ID#\": id_num,\n",
        "                \"Ancestors\": ancestor_list\n",
        "            }\n",
        "\n",
        "        # Store the ancestor data in an instance variable\n",
        "        self.ancestors = ancestors\n",
        "\n",
        "    def print_extractable_details(self):\n",
        "        headers = ['ID#', 'Anchor_gen1', 'cM', 'Sort', 'Parents', 'Ancestors']\n",
        "        col_widths = [max(len(header), 20) for header in headers]\n",
        "        header_row = ''.join(header.center(col_widths[i]) for i, header in enumerate(headers))\n",
        "        print(header_row)\n",
        "        for i, dataset in enumerate(self.filter_pool):\n",
        "            if i >= 500:\n",
        "                break\n",
        "            row = []\n",
        "            row.append(dataset.get_gen_person())\n",
        "            row.append(dataset.get_anchor_gen1())\n",
        "            row.append(dataset.get_extractable_cm())\n",
        "            row.append(dataset.get_extractable_sort())\n",
        "            row.append(dataset.get_extractable_FAMC())\n",
        "\n",
        "            # Get the ancestor data for this individual\n",
        "            name = dataset.get_anchor_gen1()\n",
        "            ancestor_data = self.ancestors[name]\n",
        "            id_num = ancestor_data[\"ID#\"]\n",
        "            ancestors = \"|\".join(ancestor_data[\"Ancestors\"])\n",
        "\n",
        "            # Add the ID# and Ancestors columns to the row\n",
        "            row.append(id_num)\n",
        "            row.append(ancestors)\n",
        "\n",
        "            data_row = ''.join(str(data).center(col_widths[i]) for i, data in enumerate(row))\n",
        "            print(data_row)\n",
        "\n",
        "# Section 2\n",
        "class GedcomDataset:\n",
        "    def __init__(self, gen_person):\n",
        "        self.gen_person = gen_person\n",
        "        self.extractable_detail = {}\n",
        "\n",
        "    def add_extractable_detail(self, key, value):\n",
        "        self.extractable_detail[key] = value\n",
        "\n",
        "    def get_gen_person(self):\n",
        "        # Extract and return the gen_person value from the gedcom_dataset\n",
        "        name = self.extractable_detail.get('NAME', '')\n",
        "        first_name, last_name = name.split('/', 1)\n",
        "        first_name = first_name.split(' ')[0]\n",
        "        last_name = last_name.rstrip('/')\n",
        "        self.anchor_gen1 = last_name.replace(\" \", \"\") + first_name.replace(\" \", \"\")\n",
        "        return self.gen_person.strip('@')\n",
        "\n",
        "    def get_anchor_gen1(self):\n",
        "        # Check if the anchor_gen1 attribute exists\n",
        "        if not hasattr(self, 'anchor_gen1'):\n",
        "            # If it does not exist, call the get_gen_person method to create it\n",
        "            self.get_gen_person()\n",
        "\n",
        "        # Return the anchor_gen1 value from the gedcom_dataset\n",
        "        return self.anchor_gen1\n",
        "\n",
        "    def get_extractable_NPFX(self):\n",
        "        # Extract and return the extractable_NPFX (prefix of extractable_name) from the gedcom_dataset\n",
        "        return self.extractable_detail.get('NPFX', '')\n",
        "\n",
        "    def get_extractable_cm(self):\n",
        "        # Extract and return the extractable_cm (left side of NPFX split at \"&\") from the gedcom_dataset\n",
        "        npfx_value = self.extractable_detail.get('NPFX', '')\n",
        "        if '&' in npfx_value:\n",
        "            cm_value = npfx_value.split('&')[0].strip()\n",
        "        else:\n",
        "            cm_value = npfx_value.strip()\n",
        "        try:\n",
        "            int(cm_value)\n",
        "            return cm_value\n",
        "        except ValueError:\n",
        "            return 'error'\n",
        "\n",
        "    def get_extractable_sort(self):\n",
        "        # Extract and return the extractable_sort (right side of NPFX split at \"&\") from the gedcom_dataset\n",
        "        npfx_value = self.extractable_detail.get('NPFX', '')\n",
        "        if '&' in npfx_value:\n",
        "            sort_value = npfx_value.split('&')[1].strip()\n",
        "            return sort_value\n",
        "        else:\n",
        "            return ''\n",
        "\n",
        "    def get_extractable_FAMC(self):\n",
        "        # Extract and return the extractable_FAMC (paired parents of extractable_name) from the gedcom_dataset\n",
        "        return self.extractable_detail.get('FAMC', '').strip('@')\n",
        "\n",
        "# Section 3\n",
        "def generate_ancestor_list(name, id_num, gedcom_datasets):\n",
        "    # Replace this with your code to generate the ancestor list for the given individual\n",
        "    ancestor_list = ...\n",
        "    return ancestor_list\n",
        "\n",
        "dna_generations = Gedcom('dna_generations.ged')\n",
        "dna_generations.parse_gedcom()\n",
        "dna_generations.generate_ancestor_data()\n",
        "dna_generations.print_extractable_details()\n"
      ],
      "metadata": {
        "id": "oOPYkkB3HTX6",
        "outputId": "173287fd-5275-4f01-d1fe-31d9adcdbd19",
        "colab": {
          "base_uri": "https://localhost:8080/",
          "height": 394
        }
      },
      "execution_count": 8,
      "outputs": [
        {
          "output_type": "stream",
          "name": "stdout",
          "text": [
            "Found 50775 total records\n",
            "Found 155 NPFX tags\n",
            "        ID#             Anchor_gen1              cM                 Sort              Parents            Ancestors      \n"
          ]
        },
        {
          "output_type": "error",
          "ename": "TypeError",
          "evalue": "ignored",
          "traceback": [
            "\u001b[0;31m---------------------------------------------------------------------------\u001b[0m",
            "\u001b[0;31mTypeError\u001b[0m                                 Traceback (most recent call last)",
            "\u001b[0;32m<ipython-input-8-0a99edfaef97>\u001b[0m in \u001b[0;36m<cell line: 157>\u001b[0;34m()\u001b[0m\n\u001b[1;32m    155\u001b[0m \u001b[0mdna_generations\u001b[0m\u001b[0;34m.\u001b[0m\u001b[0mparse_gedcom\u001b[0m\u001b[0;34m(\u001b[0m\u001b[0;34m)\u001b[0m\u001b[0;34m\u001b[0m\u001b[0;34m\u001b[0m\u001b[0m\n\u001b[1;32m    156\u001b[0m \u001b[0mdna_generations\u001b[0m\u001b[0;34m.\u001b[0m\u001b[0mgenerate_ancestor_data\u001b[0m\u001b[0;34m(\u001b[0m\u001b[0;34m)\u001b[0m\u001b[0;34m\u001b[0m\u001b[0;34m\u001b[0m\u001b[0m\n\u001b[0;32m--> 157\u001b[0;31m \u001b[0mdna_generations\u001b[0m\u001b[0;34m.\u001b[0m\u001b[0mprint_extractable_details\u001b[0m\u001b[0;34m(\u001b[0m\u001b[0;34m)\u001b[0m\u001b[0;34m\u001b[0m\u001b[0;34m\u001b[0m\u001b[0m\n\u001b[0m",
            "\u001b[0;32m<ipython-input-8-0a99edfaef97>\u001b[0m in \u001b[0;36mprint_extractable_details\u001b[0;34m(self)\u001b[0m\n\u001b[1;32m     80\u001b[0m             \u001b[0mancestor_data\u001b[0m \u001b[0;34m=\u001b[0m \u001b[0mself\u001b[0m\u001b[0;34m.\u001b[0m\u001b[0mancestors\u001b[0m\u001b[0;34m[\u001b[0m\u001b[0mname\u001b[0m\u001b[0;34m]\u001b[0m\u001b[0;34m\u001b[0m\u001b[0;34m\u001b[0m\u001b[0m\n\u001b[1;32m     81\u001b[0m             \u001b[0mid_num\u001b[0m \u001b[0;34m=\u001b[0m \u001b[0mancestor_data\u001b[0m\u001b[0;34m[\u001b[0m\u001b[0;34m\"ID#\"\u001b[0m\u001b[0;34m]\u001b[0m\u001b[0;34m\u001b[0m\u001b[0;34m\u001b[0m\u001b[0m\n\u001b[0;32m---> 82\u001b[0;31m             \u001b[0mancestors\u001b[0m \u001b[0;34m=\u001b[0m \u001b[0;34m\"|\"\u001b[0m\u001b[0;34m.\u001b[0m\u001b[0mjoin\u001b[0m\u001b[0;34m(\u001b[0m\u001b[0mancestor_data\u001b[0m\u001b[0;34m[\u001b[0m\u001b[0;34m\"Ancestors\"\u001b[0m\u001b[0;34m]\u001b[0m\u001b[0;34m)\u001b[0m\u001b[0;34m\u001b[0m\u001b[0;34m\u001b[0m\u001b[0m\n\u001b[0m\u001b[1;32m     83\u001b[0m \u001b[0;34m\u001b[0m\u001b[0m\n\u001b[1;32m     84\u001b[0m             \u001b[0;31m# Add the ID# and Ancestors columns to the row\u001b[0m\u001b[0;34m\u001b[0m\u001b[0;34m\u001b[0m\u001b[0m\n",
            "\u001b[0;31mTypeError\u001b[0m: can only join an iterable"
          ]
        }
      ]
    }
  ]
}